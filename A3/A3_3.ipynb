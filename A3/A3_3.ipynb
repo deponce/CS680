{
 "cells": [
  {
   "cell_type": "code",
   "execution_count": 1,
   "metadata": {},
   "outputs": [],
   "source": [
    "import tensorflow as tf\n",
    "import numpy as np\n",
    "from tensorflow.keras import datasets, layers, models\n",
    "import matplotlib.pyplot as plt\n",
    "import os\n",
    "import math\n",
    "import cv2\n",
    "(train_images, train_labels), (test_images, test_labels) = datasets.mnist.load_data()\n",
    "train_images = train_images.reshape([60000,28,28,1])\n",
    "test_images = test_images.reshape([10000,28,28, 1])"
   ]
  },
  {
   "cell_type": "code",
   "execution_count": 2,
   "metadata": {},
   "outputs": [
    {
     "name": "stdout",
     "output_type": "stream",
     "text": [
      "INFO:tensorflow:Using MirroredStrategy with devices ('/job:localhost/replica:0/task:0/device:GPU:0', '/job:localhost/replica:0/task:0/device:GPU:1')\n"
     ]
    }
   ],
   "source": [
    "IMG_SIZE = 32\n",
    "mirrored_strategy = tf.distribute.MirroredStrategy()\n",
    "with mirrored_strategy.scope():\n",
    "    resize_and_rescale = tf.keras.Sequential([\n",
    "      layers.experimental.preprocessing.Resizing(IMG_SIZE, IMG_SIZE),\n",
    "      layers.experimental.preprocessing.Rescaling(1./255)\n",
    "    ])\n",
    "\n",
    "train_images = np.array([resize_and_rescale(img) for img in train_images])\n",
    "test_images = np.array([resize_and_rescale(img) for img in test_images])"
   ]
  },
  {
   "cell_type": "code",
   "execution_count": 3,
   "metadata": {},
   "outputs": [
    {
     "name": "stdout",
     "output_type": "stream",
     "text": [
      "INFO:tensorflow:Using MirroredStrategy with devices ('/job:localhost/replica:0/task:0/device:GPU:0', '/job:localhost/replica:0/task:0/device:GPU:1')\n",
      "INFO:tensorflow:Reduce to /job:localhost/replica:0/task:0/device:CPU:0 then broadcast to ('/job:localhost/replica:0/task:0/device:CPU:0',).\n",
      "INFO:tensorflow:Reduce to /job:localhost/replica:0/task:0/device:CPU:0 then broadcast to ('/job:localhost/replica:0/task:0/device:CPU:0',).\n",
      "INFO:tensorflow:Reduce to /job:localhost/replica:0/task:0/device:CPU:0 then broadcast to ('/job:localhost/replica:0/task:0/device:CPU:0',).\n",
      "INFO:tensorflow:Reduce to /job:localhost/replica:0/task:0/device:CPU:0 then broadcast to ('/job:localhost/replica:0/task:0/device:CPU:0',).\n",
      "INFO:tensorflow:Reduce to /job:localhost/replica:0/task:0/device:CPU:0 then broadcast to ('/job:localhost/replica:0/task:0/device:CPU:0',).\n",
      "INFO:tensorflow:Reduce to /job:localhost/replica:0/task:0/device:CPU:0 then broadcast to ('/job:localhost/replica:0/task:0/device:CPU:0',).\n",
      "INFO:tensorflow:Reduce to /job:localhost/replica:0/task:0/device:CPU:0 then broadcast to ('/job:localhost/replica:0/task:0/device:CPU:0',).\n",
      "INFO:tensorflow:Reduce to /job:localhost/replica:0/task:0/device:CPU:0 then broadcast to ('/job:localhost/replica:0/task:0/device:CPU:0',).\n",
      "INFO:tensorflow:Reduce to /job:localhost/replica:0/task:0/device:CPU:0 then broadcast to ('/job:localhost/replica:0/task:0/device:CPU:0',).\n",
      "INFO:tensorflow:Reduce to /job:localhost/replica:0/task:0/device:CPU:0 then broadcast to ('/job:localhost/replica:0/task:0/device:CPU:0',).\n",
      "Model: \"sequential_1\"\n",
      "_________________________________________________________________\n",
      "Layer (type)                 Output Shape              Param #   \n",
      "=================================================================\n",
      "conv2d (Conv2D)              (None, 32, 32, 64)        640       \n",
      "_________________________________________________________________\n",
      "batch_normalization (BatchNo (None, 32, 32, 64)        256       \n",
      "_________________________________________________________________\n",
      "max_pooling2d (MaxPooling2D) (None, 16, 16, 64)        0         \n",
      "_________________________________________________________________\n",
      "conv2d_1 (Conv2D)            (None, 16, 16, 128)       73856     \n",
      "_________________________________________________________________\n",
      "batch_normalization_1 (Batch (None, 16, 16, 128)       512       \n",
      "_________________________________________________________________\n",
      "max_pooling2d_1 (MaxPooling2 (None, 8, 8, 128)         0         \n",
      "_________________________________________________________________\n",
      "conv2d_2 (Conv2D)            (None, 8, 8, 256)         295168    \n",
      "_________________________________________________________________\n",
      "batch_normalization_2 (Batch (None, 8, 8, 256)         1024      \n",
      "_________________________________________________________________\n",
      "conv2d_3 (Conv2D)            (None, 8, 8, 256)         590080    \n",
      "_________________________________________________________________\n",
      "batch_normalization_3 (Batch (None, 8, 8, 256)         1024      \n",
      "_________________________________________________________________\n",
      "max_pooling2d_2 (MaxPooling2 (None, 4, 4, 256)         0         \n",
      "_________________________________________________________________\n",
      "conv2d_4 (Conv2D)            (None, 4, 4, 512)         1180160   \n",
      "_________________________________________________________________\n",
      "batch_normalization_4 (Batch (None, 4, 4, 512)         2048      \n",
      "_________________________________________________________________\n",
      "conv2d_5 (Conv2D)            (None, 4, 4, 512)         2359808   \n",
      "_________________________________________________________________\n",
      "batch_normalization_5 (Batch (None, 4, 4, 512)         2048      \n",
      "_________________________________________________________________\n",
      "max_pooling2d_3 (MaxPooling2 (None, 2, 2, 512)         0         \n",
      "_________________________________________________________________\n",
      "conv2d_6 (Conv2D)            (None, 2, 2, 512)         2359808   \n",
      "_________________________________________________________________\n",
      "batch_normalization_6 (Batch (None, 2, 2, 512)         2048      \n",
      "_________________________________________________________________\n",
      "conv2d_7 (Conv2D)            (None, 2, 2, 512)         2359808   \n",
      "_________________________________________________________________\n",
      "batch_normalization_7 (Batch (None, 2, 2, 512)         2048      \n",
      "_________________________________________________________________\n",
      "max_pooling2d_4 (MaxPooling2 (None, 1, 1, 512)         0         \n",
      "_________________________________________________________________\n",
      "flatten (Flatten)            (None, 512)               0         \n",
      "_________________________________________________________________\n",
      "dense (Dense)                (None, 4096)              2101248   \n",
      "_________________________________________________________________\n",
      "dropout (Dropout)            (None, 4096)              0         \n",
      "_________________________________________________________________\n",
      "dense_1 (Dense)              (None, 4096)              16781312  \n",
      "_________________________________________________________________\n",
      "dropout_1 (Dropout)          (None, 4096)              0         \n",
      "_________________________________________________________________\n",
      "dense_2 (Dense)              (None, 10)                40970     \n",
      "=================================================================\n",
      "Total params: 28,153,866\n",
      "Trainable params: 28,148,362\n",
      "Non-trainable params: 5,504\n",
      "_________________________________________________________________\n"
     ]
    }
   ],
   "source": [
    "mirrored_strategy = tf.distribute.MirroredStrategy()\n",
    "with mirrored_strategy.scope():\n",
    "    \n",
    "    n_kernel_lst = [64, 128, 256, 256, 512, 512, 512, 512]\n",
    "    max_pool_layer_lst = [0, 1, 3, 5, 7]\n",
    "    model = models.Sequential()\n",
    "\n",
    "    for layer_idx, n_kernel in enumerate(n_kernel_lst):\n",
    "        if layer_idx == 0:\n",
    "            model.add(layers.Conv2D(filters=n_kernel, kernel_size=[3, 3], strides=(1, 1),\\\n",
    "                                    input_shape=(32, 32, 1), activation='relu', padding='same'))\n",
    "            model.add(layers.BatchNormalization())\n",
    "        else:        \n",
    "            model.add(layers.Conv2D(filters=n_kernel, kernel_size=[3, 3], strides=(1, 1),\\\n",
    "                                    activation='relu', padding='same'))\n",
    "            model.add(layers.BatchNormalization())\n",
    "        if layer_idx in max_pool_layer_lst:\n",
    "            model.add(layers.MaxPool2D(pool_size=(2, 2), strides=2, padding='valid'))\n",
    "    model.add(layers.Flatten())\n",
    "    model.add(layers.Dense(4096, activation='relu'))\n",
    "    model.add(layers.Dropout(0.5))\n",
    "    model.add(layers.Dense(4096, activation='relu'))\n",
    "    model.add(layers.Dropout(0.5))\n",
    "    model.add(layers.Dense(10, activation='softmax'))\n",
    "model.summary()    "
   ]
  },
  {
   "cell_type": "code",
   "execution_count": 4,
   "metadata": {},
   "outputs": [
    {
     "name": "stdout",
     "output_type": "stream",
     "text": [
      "Epoch 1/5\n",
      "INFO:tensorflow:batch_all_reduce: 38 all-reduces with algorithm = nccl, num_packs = 1\n",
      "INFO:tensorflow:batch_all_reduce: 38 all-reduces with algorithm = nccl, num_packs = 1\n",
      "235/235 [==============================] - 35s 112ms/step - loss: 0.8117 - accuracy: 0.8342 - val_loss: 11.3778 - val_accuracy: 0.1135\n",
      "Epoch 2/5\n",
      "235/235 [==============================] - 24s 102ms/step - loss: 0.0619 - accuracy: 0.9842 - val_loss: 0.4561 - val_accuracy: 0.8774\n",
      "Epoch 3/5\n",
      "235/235 [==============================] - 24s 102ms/step - loss: 0.0469 - accuracy: 0.9878 - val_loss: 0.0936 - val_accuracy: 0.9801\n",
      "Epoch 4/5\n",
      "235/235 [==============================] - 24s 102ms/step - loss: 0.0395 - accuracy: 0.9900 - val_loss: 0.0545 - val_accuracy: 0.9861\n",
      "Epoch 5/5\n",
      "235/235 [==============================] - 24s 102ms/step - loss: 0.0372 - accuracy: 0.9906 - val_loss: 0.0550 - val_accuracy: 0.9867\n"
     ]
    }
   ],
   "source": [
    "model.compile(optimizer='adam',\n",
    "              loss=tf.keras.losses.SparseCategoricalCrossentropy(from_logits=True),\n",
    "             metrics=['accuracy'])\n",
    "history = model.fit(train_images, train_labels, epochs=5, batch_size = 256, shuffle=True, \n",
    "                    validation_data=(test_images, test_labels))"
   ]
  },
  {
   "cell_type": "code",
   "execution_count": 5,
   "metadata": {},
   "outputs": [
    {
     "data": {
      "text/plain": [
       "Text(0.5, 1.0, 'accuracy vs epoch')"
      ]
     },
     "execution_count": 5,
     "metadata": {},
     "output_type": "execute_result"
    },
    {
     "data": {
      "image/png": "[encoded data removed]",
      "text/plain": [
       "<Figure size 432x288 with 1 Axes>"
      ]
     },
     "metadata": {
      "needs_background": "light"
     },
     "output_type": "display_data"
    }
   ],
   "source": [
    "x_ax = [1,2,3,4,5]\n",
    "plt.plot(x_ax, history.history['val_accuracy'], label='Test accuracy', color=\"coral\")\n",
    "plt.plot(x_ax, history.history['accuracy'], label='training accuracy', color=\"seagreen\")\n",
    "plt.legend()\n",
    "plt.title('accuracy vs epoch')"
   ]
  },
  {
   "cell_type": "code",
   "execution_count": 6,
   "metadata": {},
   "outputs": [
    {
     "data": {
      "text/plain": [
       "Text(0.5, 1.0, 'loss vs epoch')"
      ]
     },
     "execution_count": 6,
     "metadata": {},
     "output_type": "execute_result"
    },
    {
     "data": {
      "image/png": "[encoded data removed]",
      "text/plain": [
       "<Figure size 432x288 with 1 Axes>"
      ]
     },
     "metadata": {
      "needs_background": "light"
     },
     "output_type": "display_data"
    }
   ],
   "source": [
    "plt.plot(x_ax, history.history['val_loss'], label='Test loss', color=\"coral\")\n",
    "plt.plot(x_ax, history.history['loss'], label='training loss', color=\"seagreen\")\n",
    "plt.legend()\n",
    "plt.title('loss vs epoch')"
   ]
  },
  {
   "cell_type": "code",
   "execution_count": 7,
   "metadata": {},
   "outputs": [
    {
     "data": {
      "text/plain": [
       "(60000, 32, 32, 1)"
      ]
     },
     "execution_count": 7,
     "metadata": {},
     "output_type": "execute_result"
    }
   ],
   "source": [
    "np.flip(train_images, 1).shape"
   ]
  },
  {
   "cell_type": "code",
   "execution_count": 8,
   "metadata": {},
   "outputs": [
    {
     "data": {
      "text/plain": [
       "<matplotlib.image.AxesImage at 0x7fcd13025490>"
      ]
     },
     "execution_count": 8,
     "metadata": {},
     "output_type": "execute_result"
    },
    {
     "data": {
      "image/png": "[encoded data removed]",
      "text/plain": [
       "<Figure size 432x288 with 1 Axes>"
      ]
     },
     "metadata": {
      "needs_background": "light"
     },
     "output_type": "display_data"
    }
   ],
   "source": [
    "# flip from top to bottom\n",
    "plt.imshow(tf.experimental.numpy.flip(train_images, 1)[2])"
   ]
  },
  {
   "cell_type": "code",
   "execution_count": 9,
   "metadata": {},
   "outputs": [
    {
     "data": {
      "text/plain": [
       "<matplotlib.image.AxesImage at 0x7fcd12f858b0>"
      ]
     },
     "execution_count": 9,
     "metadata": {},
     "output_type": "execute_result"
    },
    {
     "data": {
      "image/png": "[encoded data removed]",
      "text/plain": [
       "<Figure size 432x288 with 1 Axes>"
      ]
     },
     "metadata": {
      "needs_background": "light"
     },
     "output_type": "display_data"
    }
   ],
   "source": [
    "plt.imshow(train_images[2])"
   ]
  },
  {
   "cell_type": "code",
   "execution_count": 10,
   "metadata": {},
   "outputs": [
    {
     "data": {
      "text/plain": [
       "<matplotlib.image.AxesImage at 0x7fcd12f60550>"
      ]
     },
     "execution_count": 10,
     "metadata": {},
     "output_type": "execute_result"
    },
    {
     "data": {
      "image/png": "[encoded data removed]",
      "text/plain": [
       "<Figure size 432x288 with 1 Axes>"
      ]
     },
     "metadata": {
      "needs_background": "light"
     },
     "output_type": "display_data"
    }
   ],
   "source": [
    "# flip from left to right\n",
    "plt.imshow(tf.experimental.numpy.flip(train_images, 2)[2])"
   ]
  },
  {
   "cell_type": "code",
   "execution_count": 11,
   "metadata": {},
   "outputs": [
    {
     "data": {
      "text/plain": [
       "0.9866"
      ]
     },
     "execution_count": 11,
     "metadata": {},
     "output_type": "execute_result"
    }
   ],
   "source": [
    "y_pred = model.predict(test_images)\n",
    "scce = tf.keras.metrics.Accuracy()\n",
    "scce(test_labels, np.array([y_pred[i].argmax() for i in range(y_pred.shape[0])])).numpy()"
   ]
  },
  {
   "cell_type": "code",
   "execution_count": 12,
   "metadata": {},
   "outputs": [
    {
     "data": {
      "text/plain": [
       "0.4342"
      ]
     },
     "execution_count": 12,
     "metadata": {},
     "output_type": "execute_result"
    }
   ],
   "source": [
    "# flip from left to right\n",
    "ir_test_img = np.flip(test_images, 2)\n",
    "y_pred = model.predict(ir_test_img)\n",
    "scce = tf.keras.metrics.Accuracy()\n",
    "scce(test_labels, np.array([y_pred[i].argmax() for i in range(y_pred.shape[0])])).numpy()"
   ]
  },
  {
   "cell_type": "code",
   "execution_count": 13,
   "metadata": {},
   "outputs": [
    {
     "data": {
      "text/plain": [
       "0.3714"
      ]
     },
     "execution_count": 13,
     "metadata": {},
     "output_type": "execute_result"
    }
   ],
   "source": [
    "# flip from top to bottom\n",
    "ir_test_img = np.flip(test_images, 1)\n",
    "y_pred = model.predict(ir_test_img)\n",
    "scce = tf.keras.metrics.Accuracy()\n",
    "scce(test_labels, np.array([y_pred[i].argmax() for i in range(y_pred.shape[0])])).numpy()"
   ]
  },
  {
   "cell_type": "code",
   "execution_count": 14,
   "metadata": {},
   "outputs": [
    {
     "name": "stdout",
     "output_type": "stream",
     "text": [
      "0.986\n",
      "0.9881\n",
      "0.1942\n"
     ]
    }
   ],
   "source": [
    "lst_sigma = [0.01, 0.1, 1]\n",
    "test_set_shape = test_images.shape\n",
    "for sigma in lst_sigma:\n",
    "    noise = tf.random.normal(shape=test_set_shape, stddev=sigma)\n",
    "    y_pred = model.predict(test_images+noise)\n",
    "    scce = tf.keras.metrics.Accuracy()\n",
    "    print(scce(test_labels, np.array([y_pred[i].argmax() for i in range(y_pred.shape[0])])).numpy())"
   ]
  },
  {
   "cell_type": "code",
   "execution_count": 15,
   "metadata": {},
   "outputs": [],
   "source": [
    "train_images_aug = np.concatenate([train_images, np.flip(train_images, 1), np.flip(train_images, 2)])\n",
    "train_labels_aug = np.concatenate([train_labels, train_labels, train_labels])"
   ]
  },
  {
   "cell_type": "code",
   "execution_count": 16,
   "metadata": {},
   "outputs": [],
   "source": [
    "lst_sigma = [0.01, 0.1, 1]\n",
    "train_set_shape = train_images.shape\n",
    "for sigma in lst_sigma:\n",
    "    noise = tf.random.normal(shape=train_set_shape, stddev=sigma)\n",
    "    train_images_aug = np.concatenate([train_images_aug, train_images+noise])\n",
    "    train_labels_aug = np.concatenate([train_labels_aug, train_labels])"
   ]
  },
  {
   "cell_type": "code",
   "execution_count": 17,
   "metadata": {},
   "outputs": [
    {
     "data": {
      "text/plain": [
       "(360000, 32, 32, 1)"
      ]
     },
     "execution_count": 17,
     "metadata": {},
     "output_type": "execute_result"
    }
   ],
   "source": [
    "train_images_aug.shape"
   ]
  },
  {
   "cell_type": "code",
   "execution_count": 18,
   "metadata": {},
   "outputs": [
    {
     "name": "stdout",
     "output_type": "stream",
     "text": [
      "INFO:tensorflow:Using MirroredStrategy with devices ('/job:localhost/replica:0/task:0/device:GPU:0', '/job:localhost/replica:0/task:0/device:GPU:1')\n",
      "Model: \"sequential_2\"\n",
      "_________________________________________________________________\n",
      "Layer (type)                 Output Shape              Param #   \n",
      "=================================================================\n",
      "conv2d_8 (Conv2D)            (None, 32, 32, 64)        640       \n",
      "_________________________________________________________________\n",
      "batch_normalization_8 (Batch (None, 32, 32, 64)        256       \n",
      "_________________________________________________________________\n",
      "max_pooling2d_5 (MaxPooling2 (None, 16, 16, 64)        0         \n",
      "_________________________________________________________________\n",
      "conv2d_9 (Conv2D)            (None, 16, 16, 128)       73856     \n",
      "_________________________________________________________________\n",
      "batch_normalization_9 (Batch (None, 16, 16, 128)       512       \n",
      "_________________________________________________________________\n",
      "max_pooling2d_6 (MaxPooling2 (None, 8, 8, 128)         0         \n",
      "_________________________________________________________________\n",
      "conv2d_10 (Conv2D)           (None, 8, 8, 256)         295168    \n",
      "_________________________________________________________________\n",
      "batch_normalization_10 (Batc (None, 8, 8, 256)         1024      \n",
      "_________________________________________________________________\n",
      "conv2d_11 (Conv2D)           (None, 8, 8, 256)         590080    \n",
      "_________________________________________________________________\n",
      "batch_normalization_11 (Batc (None, 8, 8, 256)         1024      \n",
      "_________________________________________________________________\n",
      "max_pooling2d_7 (MaxPooling2 (None, 4, 4, 256)         0         \n",
      "_________________________________________________________________\n",
      "conv2d_12 (Conv2D)           (None, 4, 4, 512)         1180160   \n",
      "_________________________________________________________________\n",
      "batch_normalization_12 (Batc (None, 4, 4, 512)         2048      \n",
      "_________________________________________________________________\n",
      "conv2d_13 (Conv2D)           (None, 4, 4, 512)         2359808   \n",
      "_________________________________________________________________\n",
      "batch_normalization_13 (Batc (None, 4, 4, 512)         2048      \n",
      "_________________________________________________________________\n",
      "max_pooling2d_8 (MaxPooling2 (None, 2, 2, 512)         0         \n",
      "_________________________________________________________________\n",
      "conv2d_14 (Conv2D)           (None, 2, 2, 512)         2359808   \n",
      "_________________________________________________________________\n",
      "batch_normalization_14 (Batc (None, 2, 2, 512)         2048      \n",
      "_________________________________________________________________\n",
      "conv2d_15 (Conv2D)           (None, 2, 2, 512)         2359808   \n",
      "_________________________________________________________________\n",
      "batch_normalization_15 (Batc (None, 2, 2, 512)         2048      \n",
      "_________________________________________________________________\n",
      "max_pooling2d_9 (MaxPooling2 (None, 1, 1, 512)         0         \n",
      "_________________________________________________________________\n",
      "flatten_1 (Flatten)          (None, 512)               0         \n",
      "_________________________________________________________________\n",
      "dense_3 (Dense)              (None, 4096)              2101248   \n",
      "_________________________________________________________________\n",
      "dropout_2 (Dropout)          (None, 4096)              0         \n",
      "_________________________________________________________________\n",
      "dense_4 (Dense)              (None, 4096)              16781312  \n",
      "_________________________________________________________________\n",
      "dropout_3 (Dropout)          (None, 4096)              0         \n",
      "_________________________________________________________________\n",
      "dense_5 (Dense)              (None, 10)                40970     \n",
      "=================================================================\n",
      "Total params: 28,153,866\n",
      "Trainable params: 28,148,362\n",
      "Non-trainable params: 5,504\n",
      "_________________________________________________________________\n"
     ]
    }
   ],
   "source": [
    "mirrored_strategy = tf.distribute.MirroredStrategy()\n",
    "with mirrored_strategy.scope():\n",
    "    n_kernel_lst = [64, 128, 256, 256, 512, 512, 512, 512]\n",
    "    max_pool_layer_lst = [0, 1, 3, 5, 7]\n",
    "    model = models.Sequential()\n",
    "\n",
    "    for layer_idx, n_kernel in enumerate(n_kernel_lst):\n",
    "        if layer_idx == 0:\n",
    "            model.add(layers.Conv2D(filters=n_kernel, kernel_size=[3, 3], strides=(1, 1),\\\n",
    "                                    input_shape=(32, 32, 1), activation='relu', padding='same'))\n",
    "            model.add(layers.BatchNormalization())\n",
    "        else:        \n",
    "            model.add(layers.Conv2D(filters=n_kernel, kernel_size=[3, 3], strides=(1, 1),\\\n",
    "                                    activation='relu', padding='same'))\n",
    "            model.add(layers.BatchNormalization())\n",
    "        if layer_idx in max_pool_layer_lst:\n",
    "            model.add(layers.MaxPool2D(pool_size=(2, 2), strides=2, padding='valid'))\n",
    "    model.add(layers.Flatten())\n",
    "    model.add(layers.Dense(4096, activation='relu'))\n",
    "    model.add(layers.Dropout(0.5))\n",
    "    model.add(layers.Dense(4096, activation='relu'))\n",
    "    model.add(layers.Dropout(0.5))\n",
    "    model.add(layers.Dense(10, activation='softmax'))\n",
    "model.summary()  "
   ]
  },
  {
   "cell_type": "code",
   "execution_count": 19,
   "metadata": {},
   "outputs": [
    {
     "name": "stdout",
     "output_type": "stream",
     "text": [
      "Epoch 1/5\n",
      "INFO:tensorflow:batch_all_reduce: 38 all-reduces with algorithm = nccl, num_packs = 1\n",
      "INFO:tensorflow:batch_all_reduce: 38 all-reduces with algorithm = nccl, num_packs = 1\n",
      "1407/1407 [==============================] - 145s 101ms/step - loss: 0.8058 - accuracy: 0.7629 - val_loss: 0.0674 - val_accuracy: 0.9789\n",
      "Epoch 2/5\n",
      "1407/1407 [==============================] - 139s 99ms/step - loss: 0.1357 - accuracy: 0.9607 - val_loss: 0.0391 - val_accuracy: 0.9889\n",
      "Epoch 3/5\n",
      "1407/1407 [==============================] - 137s 98ms/step - loss: 0.1392 - accuracy: 0.9608 - val_loss: 0.0640 - val_accuracy: 0.9810\n",
      "Epoch 4/5\n",
      "1407/1407 [==============================] - 137s 97ms/step - loss: 0.1235 - accuracy: 0.9635 - val_loss: 0.0444 - val_accuracy: 0.9860\n",
      "Epoch 5/5\n",
      "1407/1407 [==============================] - 137s 97ms/step - loss: 0.0885 - accuracy: 0.9731 - val_loss: 0.0488 - val_accuracy: 0.9866\n"
     ]
    }
   ],
   "source": [
    "model.compile(optimizer='adam',\n",
    "              loss=tf.keras.losses.SparseCategoricalCrossentropy(from_logits=True),\n",
    "             metrics=['accuracy'])\n",
    "history = model.fit(train_images_aug, train_labels_aug, epochs=5, batch_size = 256, shuffle=True, \n",
    "                    validation_data=(test_images, test_labels))"
   ]
  },
  {
   "cell_type": "code",
   "execution_count": 20,
   "metadata": {},
   "outputs": [
    {
     "data": {
      "text/plain": [
       "0.9803"
      ]
     },
     "execution_count": 20,
     "metadata": {},
     "output_type": "execute_result"
    }
   ],
   "source": [
    "# flip from left to right\n",
    "ir_test_img = np.flip(test_images, 2)\n",
    "y_pred = model.predict(ir_test_img)\n",
    "scce = tf.keras.metrics.Accuracy()\n",
    "scce(test_labels, np.array([y_pred[i].argmax() for i in range(y_pred.shape[0])])).numpy()"
   ]
  },
  {
   "cell_type": "code",
   "execution_count": 21,
   "metadata": {},
   "outputs": [
    {
     "data": {
      "text/plain": [
       "0.9816"
      ]
     },
     "execution_count": 21,
     "metadata": {},
     "output_type": "execute_result"
    }
   ],
   "source": [
    "# flip from top to bottom\n",
    "ir_test_img = np.flip(test_images, 1)\n",
    "y_pred = model.predict(ir_test_img)\n",
    "scce = tf.keras.metrics.Accuracy()\n",
    "scce(test_labels, np.array([y_pred[i].argmax() for i in range(y_pred.shape[0])])).numpy()"
   ]
  },
  {
   "cell_type": "code",
   "execution_count": 22,
   "metadata": {},
   "outputs": [
    {
     "name": "stdout",
     "output_type": "stream",
     "text": [
      "0.988\n",
      "0.9913\n",
      "0.8746\n"
     ]
    }
   ],
   "source": [
    "lst_sigma = [0.01, 0.1, 1]\n",
    "test_set_shape = test_images.shape\n",
    "for sigma in lst_sigma:\n",
    "    noise = tf.random.normal(shape=test_set_shape, stddev=sigma)\n",
    "    y_pred = model.predict(test_images+noise)\n",
    "    scce = tf.keras.metrics.Accuracy()\n",
    "    print(scce(test_labels, np.array([y_pred[i].argmax() for i in range(y_pred.shape[0])])).numpy())"
   ]
  },
  {
   "cell_type": "code",
   "execution_count": 23,
   "metadata": {},
   "outputs": [
    {
     "data": {
      "text/plain": [
       "0.9865"
      ]
     },
     "execution_count": 23,
     "metadata": {},
     "output_type": "execute_result"
    }
   ],
   "source": [
    "y_pred = model.predict(test_images)\n",
    "scce = tf.keras.metrics.Accuracy()\n",
    "scce(test_labels, np.array([y_pred[i].argmax() for i in range(y_pred.shape[0])])).numpy()"
   ]
  },
  {
   "cell_type": "code",
   "execution_count": null,
   "metadata": {},
   "outputs": [],
   "source": []
  }
 ],
 "metadata": {
  "kernelspec": {
   "display_name": "Python 3",
   "language": "python",
   "name": "python3"
  },
  "language_info": {
   "codemirror_mode": {
    "name": "ipython",
    "version": 3
   },
   "file_extension": ".py",
   "mimetype": "text/x-python",
   "name": "python",
   "nbconvert_exporter": "python",
   "pygments_lexer": "ipython3",
   "version": "3.8.5"
  }
 },
 "nbformat": 4,
 "nbformat_minor": 2
}
